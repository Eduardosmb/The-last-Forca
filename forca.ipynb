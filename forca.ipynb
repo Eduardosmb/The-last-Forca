{
 "cells": [
  {
   "attachments": {},
   "cell_type": "markdown",
   "metadata": {},
   "source": [
    "# **Forca**"
   ]
  },
  {
   "attachments": {},
   "cell_type": "markdown",
   "metadata": {},
   "source": [
    "### Classe Forca"
   ]
  },
  {
   "attachments": {},
   "cell_type": "markdown",
   "metadata": {},
   "source": [
    "Essa é uma classe que implementa o jogo da forca. O jogo consiste em tentar adivinhar uma palavra selecionada de maneira aleatoria. O jogador tem 5 vidas. O jogador pode tanto tentar adivinhar uma letra da palavra(caso acerte será revelado a posição das letras e o jogador não perderá vida), quanto tentar adivinhar a própria palavra(caso acerte o jogador ganhará o jogo, se não perderá uma vida)."
   ]
  },
  {
   "cell_type": "code",
   "execution_count": 17,
   "metadata": {},
   "outputs": [],
   "source": [
    "import random\n",
    "class JogoDeForca:\n",
    "    def __init__(self):\n",
    "        import requests\n",
    "        url = 'https://www.ime.usp.br/~pf/dicios/br-sem-acentos.txt'\n",
    "        r = requests.get(url, allow_redirects=True)\n",
    "        if r.status_code==200:\n",
    "            self.content = str(r.content.decode()).split('\\n')\n",
    "        else:\n",
    "            print(\"Erro: \", r.status_code)\n",
    "    \n",
    "    def novo_jogo(self, vidas=5):\n",
    "        self.vidas = vidas\n",
    "        self.palavra = random.choice(self.content)\n",
    "        return len(self.palavra)\n",
    "\n",
    "    def tentar_letra(self, letra):\n",
    "        if self.vidas > 0:\n",
    "            if letra in self.palavra:\n",
    "                return [idx for idx in range(len(self.palavra)) if self.palavra[idx]==letra]\n",
    "            else:\n",
    "                self.vidas -= 1\n",
    "                if self.vidas == 0:\n",
    "                    print(\"Fim de jogo!\")\n",
    "                    return False\n",
    "                else:\n",
    "                    return []\n",
    "        \n",
    "    def tentar_palavra(self, palavra):\n",
    "        if self.vidas > 0:\n",
    "            if self.palavra == palavra:\n",
    "                print (\"Ganhou!\")\n",
    "                return True\n",
    "            else:\n",
    "                self.vidas = 0\n",
    "                print(\"Fim de jogo!\")\n",
    "                return False"
   ]
  },
  {
   "attachments": {},
   "cell_type": "markdown",
   "metadata": {},
   "source": [
    "### Criando funções"
   ]
  },
  {
   "attachments": {},
   "cell_type": "markdown",
   "metadata": {},
   "source": [
    "Essa função acha a letra mais frequente dentro da lista de palavras possiveis. Isso sem repetir letras já testadas."
   ]
  },
  {
   "cell_type": "code",
   "execution_count": 18,
   "metadata": {},
   "outputs": [],
   "source": [
    "def letra_tentativa(lista, letras_tentadas):\n",
    "    dici = {}\n",
    "    for palavra in lista:\n",
    "        for letra in palavra:\n",
    "            if letra not in letras_tentadas:\n",
    "                if letra in dici:\n",
    "                    dici[letra] += 1\n",
    "                else:\n",
    "                    dici[letra] = 1\n",
    "    return max(dici, key=dici.get)"
   ]
  },
  {
   "attachments": {},
   "cell_type": "markdown",
   "metadata": {},
   "source": [
    "Essa função recebe um número que representa quantos caracteres a palavra tem, e apartir disso filtra a lista de palavras apenas com as palavras que possuem o número de letras passados"
   ]
  },
  {
   "cell_type": "code",
   "execution_count": 19,
   "metadata": {},
   "outputs": [],
   "source": [
    "def filtra_palavras_por_letras(palavras, num):\n",
    "    lista = []\n",
    "    for palavra in palavras:\n",
    "        if len(palavra) == num:\n",
    "            lista.append(palavra)\n",
    "    return lista"
   ]
  },
  {
   "attachments": {},
   "cell_type": "markdown",
   "metadata": {},
   "source": [
    "### Implementando jogador"
   ]
  },
  {
   "cell_type": "code",
   "execution_count": 20,
   "metadata": {},
   "outputs": [],
   "source": [
    "def jogador(jogo):\n",
    "    letras_tentadas = []     # Inicializa uma lista vazia para armazenar as letras já tentadas\n",
    "    num = jogo.novo_jogo()  # Inicializa um novo jogo e armazena o número de letras da palavra escolhida\n",
    "    lista = filtra_palavras_por_letras(jogo.content, num) # Filtra a lista de palavras possíveis para manter apenas as palavras com o número de letras correto\n",
    "\n",
    "    # Entra em um loop while que executa enquanto o número de vidas do jogador é maior que zero\n",
    "    while jogo.vidas > 0:\n",
    "        letra = letra_tentativa(lista, letras_tentadas) # Chama a função letra_tentativa para escolher a letra mais frequente entre as palavras possíveis\n",
    "        resultado = jogo.tentar_letra(letra) # Chama a função tentar_letra para tentar a letra escolhida\n",
    "        letras_tentadas.append(letra) # Adiciona a letra escolhida à lista de letras já tentadas\n",
    "\n",
    "        if resultado == False: \n",
    "            break\n",
    "        elif len(resultado) == 0: # Se a letra não estiver na palavra, filtra a lista de palavras possíveis para manter apenas as palavras que não contém a letra\n",
    "            lista = filtra_palavras_por_letras(lista, num)\n",
    "        else:\n",
    "            lista = [palavra for palavra in lista if all(palavra[idx] == letra for idx in resultado)] # Se a letra estiver na palavra, filtra a lista de palavras possíveis para manter apenas as palavras que contém a letra nas posições corretas\n",
    "        if len(lista) == 1: # Se a lista de palavras possíveis tiver apenas uma palavra, chama a função tentar_palavra para tentar a palavra\n",
    "            resultado_final = jogo.tentar_palavra(lista[0])\n",
    "            if resultado_final: # Se a função tentar_palavra retornar True, o jogador ganhou o jogo e o loop é interrompido\n",
    "                return True\n",
    "            break\n",
    "    return False # Se o loop terminar, o jogador perdeu o jogo\n"
   ]
  },
  {
   "attachments": {},
   "cell_type": "markdown",
   "metadata": {},
   "source": [
    "### Simulando o jogador 100 vezes"
   ]
  },
  {
   "cell_type": "code",
   "execution_count": 21,
   "metadata": {},
   "outputs": [
    {
     "name": "stdout",
     "output_type": "stream",
     "text": [
      "Ganhou!\n",
      "Ganhou!\n",
      "Ganhou!\n",
      "Ganhou!\n",
      "Ganhou!\n",
      "Ganhou!\n",
      "Ganhou!\n",
      "Ganhou!\n",
      "Ganhou!\n",
      "Ganhou!\n",
      "Ganhou!\n",
      "Fim de jogo!\n",
      "Ganhou!\n",
      "Ganhou!\n",
      "Ganhou!\n",
      "Ganhou!\n",
      "Ganhou!\n",
      "Ganhou!\n",
      "Ganhou!\n",
      "Ganhou!\n",
      "Ganhou!\n",
      "Ganhou!\n",
      "Ganhou!\n",
      "Ganhou!\n",
      "Ganhou!\n",
      "Ganhou!\n",
      "Ganhou!\n",
      "Ganhou!\n",
      "Ganhou!\n",
      "Ganhou!\n",
      "Ganhou!\n",
      "Fim de jogo!\n",
      "Fim de jogo!\n",
      "Ganhou!\n",
      "Ganhou!\n",
      "Ganhou!\n",
      "Ganhou!\n",
      "Ganhou!\n",
      "Ganhou!\n",
      "Ganhou!\n",
      "Ganhou!\n",
      "Ganhou!\n",
      "Ganhou!\n",
      "Ganhou!\n",
      "Ganhou!\n",
      "Ganhou!\n",
      "Ganhou!\n",
      "Ganhou!\n",
      "Ganhou!\n",
      "Ganhou!\n",
      "Ganhou!\n",
      "Ganhou!\n",
      "Ganhou!\n",
      "Ganhou!\n",
      "Ganhou!\n",
      "Ganhou!\n",
      "Ganhou!\n",
      "Ganhou!\n",
      "Ganhou!\n",
      "Ganhou!\n",
      "Ganhou!\n",
      "Ganhou!\n",
      "Ganhou!\n",
      "Ganhou!\n",
      "Ganhou!\n",
      "Ganhou!\n",
      "Ganhou!\n",
      "Ganhou!\n",
      "Ganhou!\n",
      "Ganhou!\n",
      "Ganhou!\n",
      "Ganhou!\n",
      "Ganhou!\n",
      "Ganhou!\n",
      "Ganhou!\n",
      "Ganhou!\n",
      "Ganhou!\n",
      "Ganhou!\n",
      "Ganhou!\n",
      "Ganhou!\n",
      "Ganhou!\n",
      "Ganhou!\n",
      "Ganhou!\n",
      "Fim de jogo!\n",
      "Ganhou!\n",
      "Ganhou!\n",
      "Ganhou!\n",
      "Ganhou!\n",
      "Ganhou!\n",
      "Ganhou!\n",
      "Ganhou!\n",
      "Ganhou!\n",
      "Ganhou!\n",
      "Ganhou!\n",
      "Ganhou!\n",
      "Ganhou!\n",
      "Ganhou!\n",
      "Ganhou!\n",
      "Fim de jogo!\n",
      "Ganhou!\n",
      "95\n"
     ]
    }
   ],
   "source": [
    "ganhou = 0\n",
    "jogo = JogoDeForca()\n",
    "for i in range(100):\n",
    "    resultado = jogador(jogo)\n",
    "    if resultado == True:\n",
    "        ganhou += 1\n",
    "print(ganhou)"
   ]
  }
 ],
 "metadata": {
  "kernelspec": {
   "display_name": "Python 3",
   "language": "python",
   "name": "python3"
  },
  "language_info": {
   "codemirror_mode": {
    "name": "ipython",
    "version": 3
   },
   "file_extension": ".py",
   "mimetype": "text/x-python",
   "name": "python",
   "nbconvert_exporter": "python",
   "pygments_lexer": "ipython3",
   "version": "3.10.8"
  },
  "orig_nbformat": 4
 },
 "nbformat": 4,
 "nbformat_minor": 2
}
