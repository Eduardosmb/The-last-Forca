{
 "cells": [
  {
   "cell_type": "code",
   "execution_count": 153,
   "metadata": {},
   "outputs": [],
   "source": [
    "import random\n",
    "class JogoDeForca:\n",
    "    def __init__(self):\n",
    "        import requests\n",
    "        url = 'https://www.ime.usp.br/~pf/dicios/br-sem-acentos.txt'\n",
    "        r = requests.get(url, allow_redirects=True)\n",
    "        if r.status_code==200:\n",
    "            self.content = str(r.content.decode()).split('\\n')\n",
    "        else:\n",
    "            print(\"Erro: \", r.status_code)\n",
    "    \n",
    "    def novo_jogo(self, vidas=5):\n",
    "        self.vidas = vidas\n",
    "        self.palavra = random.choice(self.content)\n",
    "        return len(self.palavra)\n",
    "\n",
    "    def tentar_letra(self, letra):\n",
    "        if self.vidas > 0:\n",
    "            if letra in self.palavra:\n",
    "                return [idx for idx in range(len(self.palavra)) if self.palavra[idx]==letra]\n",
    "            else:\n",
    "                self.vidas -= 1\n",
    "                if self.vidas == 0:\n",
    "                    print(\"Fim de jogo!\")\n",
    "                    return False\n",
    "                else:\n",
    "                    return []\n",
    "        \n",
    "    def tentar_palavra(self, palavra):\n",
    "        if self.vidas > 0:\n",
    "            if self.palavra == palavra:\n",
    "                print (\"Ganhou!\")\n",
    "                return True\n",
    "            else:\n",
    "                self.vidas = 0\n",
    "                print(\"Fim de jogo!\")\n",
    "                return False"
   ]
  },
  {
   "cell_type": "code",
   "execution_count": 154,
   "metadata": {},
   "outputs": [],
   "source": [
    "def letra_tentativa(lista, letras_tentadas):\n",
    "    dici = {}\n",
    "    for palavra in lista:\n",
    "        for letra in palavra:\n",
    "            if letra not in letras_tentadas:\n",
    "                if letra in dici:\n",
    "                    dici[letra] += 1\n",
    "                else:\n",
    "                    dici[letra] = 1\n",
    "    return max(dici, key=dici.get)"
   ]
  },
  {
   "cell_type": "code",
   "execution_count": 155,
   "metadata": {},
   "outputs": [],
   "source": [
    "def filtra_palavras_por_letras(palavras, num):\n",
    "    lista = []\n",
    "    for palavra in palavras:\n",
    "        if len(palavra) == num:\n",
    "            lista.append(palavra)\n",
    "    return lista"
   ]
  },
  {
   "cell_type": "code",
   "execution_count": 156,
   "metadata": {},
   "outputs": [],
   "source": [
    "def jogador(jogo):\n",
    "    letras_tentadas = []\n",
    "    num = jogo.novo_jogo()\n",
    "    lista = filtra_palavras_por_letras(jogo.content, num)\n",
    "\n",
    "    while jogo.vidas > 0:\n",
    "        letra = letra_tentativa(lista, letras_tentadas)\n",
    "        resultado = jogo.tentar_letra(letra)\n",
    "\n",
    "        if resultado == False:\n",
    "            break\n",
    "        elif len(resultado) == 0:\n",
    "            lista = filtra_palavras_por_letras(lista, num)\n",
    "        else:\n",
    "            lista = [palavra for palavra in lista if all(palavra[idx] == letra for idx in resultado)]\n",
    "        if len(lista) == 1:\n",
    "            resultado_final = jogo.tentar_palavra(lista[0])\n",
    "            if resultado_final:\n",
    "                return True\n",
    "            break\n",
    "        return False"
   ]
  },
  {
   "cell_type": "code",
   "execution_count": 157,
   "metadata": {},
   "outputs": [
    {
     "name": "stdout",
     "output_type": "stream",
     "text": [
      "0\n"
     ]
    }
   ],
   "source": [
    "ganhou = 0\n",
    "jogo = JogoDeForca()\n",
    "for i in range(1):\n",
    "    resultado = jogador(jogo)\n",
    "if resultado == True:\n",
    "    ganhou += 1\n",
    "print(ganhou)"
   ]
  }
 ],
 "metadata": {
  "kernelspec": {
   "display_name": "Python 3",
   "language": "python",
   "name": "python3"
  },
  "language_info": {
   "codemirror_mode": {
    "name": "ipython",
    "version": 3
   },
   "file_extension": ".py",
   "mimetype": "text/x-python",
   "name": "python",
   "nbconvert_exporter": "python",
   "pygments_lexer": "ipython3",
   "version": "3.10.8"
  },
  "orig_nbformat": 4
 },
 "nbformat": 4,
 "nbformat_minor": 2
}
